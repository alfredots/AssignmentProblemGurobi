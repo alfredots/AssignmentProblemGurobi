{
 "cells": [
  {
   "cell_type": "code",
   "execution_count": 2,
   "metadata": {},
   "outputs": [],
   "source": [
    "from gurobipy import *\n"
   ]
  },
  {
   "cell_type": "code",
   "execution_count": 9,
   "metadata": {},
   "outputs": [
    {
     "name": "stdout",
     "output_type": "stream",
     "text": [
      "Encountered an attribute error\n"
     ]
    }
   ],
   "source": [
    "def gurobi_Solution():\n",
    "    try:\n",
    "        #Create a new model\n",
    "        m = Model(\"gurobi_test\")\n",
    "        \n",
    "        #Criar variaveis\n",
    "        X = m.addVars(1, vtype=GRB.CONTINUOS, name= \"x\")\n",
    "        Y = m.addvars(1, vtype=GRB.BINARY, name= \"y\")\n",
    "        Z = m.addvars(1, vtype=GRB.BINARY, name= \"z\")\n",
    "        \n",
    "        #setar função objetiva\n",
    "        m.setObjective(X+y+2*z, GRB_MAXIMIZE)\n",
    "        \n",
    "        #adicionar restrições\n",
    "        m.addConstr(x+2*y+3*z <= 4 , \"c0\")\n",
    "        m.addConstr(x+y >= 1, \"c1\")\n",
    "        \n",
    "        \n",
    "        m.optimize\n",
    "        \n",
    "        print('Obj: %g' % m.objVal)\n",
    "        \n",
    "    except GurobiError as e:\n",
    "        print('Error code' + str(e.errno) + \": \" + str(e))\n",
    "        \n",
    "    except AttributeError:\n",
    "        print('Encountered an attribute error')\n",
    "            \n",
    "            \n",
    "def main():\n",
    "    gurobi_Solution()\n",
    "    \n",
    "main()"
   ]
  },
  {
   "cell_type": "code",
   "execution_count": null,
   "metadata": {},
   "outputs": [],
   "source": []
  },
  {
   "cell_type": "code",
   "execution_count": null,
   "metadata": {},
   "outputs": [],
   "source": []
  },
  {
   "cell_type": "code",
   "execution_count": null,
   "metadata": {},
   "outputs": [],
   "source": []
  }
 ],
 "metadata": {
  "kernelspec": {
   "display_name": "Python 3",
   "language": "python",
   "name": "python3"
  },
  "language_info": {
   "codemirror_mode": {
    "name": "ipython",
    "version": 3
   },
   "file_extension": ".py",
   "mimetype": "text/x-python",
   "name": "python",
   "nbconvert_exporter": "python",
   "pygments_lexer": "ipython3",
   "version": "3.7.0"
  }
 },
 "nbformat": 4,
 "nbformat_minor": 2
}
